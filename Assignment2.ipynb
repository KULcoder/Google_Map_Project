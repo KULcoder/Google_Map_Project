{
 "cells": [
  {
   "cell_type": "markdown",
   "id": "f337d7f0",
   "metadata": {},
   "source": [
    "# Assignment 2\n",
    "\n",
    "**Keyu Long, Man Jiang**"
   ]
  },
  {
   "cell_type": "code",
   "execution_count": 1,
   "id": "b7ceff41",
   "metadata": {},
   "outputs": [
    {
     "name": "stderr",
     "output_type": "stream",
     "text": [
      "Intel(R) Extension for Scikit-learn* enabled (https://github.com/intel/scikit-learn-intelex)\n"
     ]
    }
   ],
   "source": [
    "# Intel Speedup\n",
    "from sklearnex import patch_sklearn\n",
    "patch_sklearn()"
   ]
  },
  {
   "cell_type": "code",
   "execution_count": 15,
   "id": "65a2fe25",
   "metadata": {},
   "outputs": [],
   "source": [
    "# utils\n",
    "import os\n",
    "import gzip\n",
    "from collections import defaultdict\n",
    "from tqdm import tqdm as progress_bar\n",
    "import re"
   ]
  },
  {
   "cell_type": "code",
   "execution_count": 3,
   "id": "1468e156",
   "metadata": {},
   "outputs": [],
   "source": [
    "# foundation\n",
    "import pandas as pd\n",
    "import numpy as np\n",
    "import matplotlib.pyplot as plt\n",
    "import seaborn as sns"
   ]
  },
  {
   "cell_type": "code",
   "execution_count": 4,
   "id": "21dc4195",
   "metadata": {},
   "outputs": [],
   "source": [
    "# data preprocess\n",
    "from sklearn.model_selection import train_test_split\n",
    "from sklearn.feature_extraction.text import TfidfVectorizer\n",
    "from sklearn.preprocessing import StandardScaler\n",
    "from sklearn.compose import ColumnTransformer"
   ]
  },
  {
   "cell_type": "code",
   "execution_count": 5,
   "id": "58639fce",
   "metadata": {},
   "outputs": [],
   "source": [
    "# models\n",
    "import sklearn\n",
    "from sklearn.pipeline import Pipeline\n",
    "from sklearn.linear_model import LogisticRegression\n",
    "from sklearn.ensemble import RandomForestClassifier"
   ]
  },
  {
   "cell_type": "code",
   "execution_count": 6,
   "id": "6aeb6317",
   "metadata": {},
   "outputs": [],
   "source": [
    "# evaluations"
   ]
  },
  {
   "cell_type": "markdown",
   "id": "5d362883",
   "metadata": {},
   "source": [
    "# Loading Data"
   ]
  },
  {
   "cell_type": "markdown",
   "id": "07b012d4",
   "metadata": {},
   "source": [
    "### First clean the data"
   ]
  },
  {
   "cell_type": "code",
   "execution_count": 57,
   "id": "b6cdc128",
   "metadata": {},
   "outputs": [
    {
     "name": "stderr",
     "output_type": "stream",
     "text": [
      "3747937it [02:15, 27709.15it/s]"
     ]
    },
    {
     "name": "stdout",
     "output_type": "stream",
     "text": [
      "CPU times: total: 2min 15s\n",
      "Wall time: 2min 15s\n"
     ]
    },
    {
     "name": "stderr",
     "output_type": "stream",
     "text": [
      "\n"
     ]
    }
   ],
   "source": [
    "%%time \n",
    "# this cell organize user's position and decide the valid user we wish to use\n",
    "user_position = defaultdict(tuple)\n",
    "valid_user = set()\n",
    "with gzip.open('users.clean.json.gz') as f:\n",
    "    for l in progress_bar(f):\n",
    "        temp = eval(l)\n",
    "        if temp['currentPlace'] is not None and len(temp['currentPlace']) == 2:\n",
    "            valid_user.add(temp['gPlusUserId'])\n",
    "            \n",
    "            position_a = temp['currentPlace'][1][1]\n",
    "            position_b = temp['currentPlace'][1][2]\n",
    "            user_position[temp['gPlusUserId']] = (position_a, position_b)"
   ]
  },
  {
   "cell_type": "code",
   "execution_count": 58,
   "id": "2a9c3f20",
   "metadata": {},
   "outputs": [
    {
     "name": "stderr",
     "output_type": "stream",
     "text": [
      "3114353it [02:21, 21984.74it/s]"
     ]
    },
    {
     "name": "stdout",
     "output_type": "stream",
     "text": [
      "CPU times: total: 2min 21s\n",
      "Wall time: 2min 21s\n"
     ]
    },
    {
     "name": "stderr",
     "output_type": "stream",
     "text": [
      "\n"
     ]
    }
   ],
   "source": [
    "%%time \n",
    "# this cell organize place's gps, place's name, and decide the valid place we wish to use\n",
    "place_gps = defaultdict(tuple)\n",
    "place_name = defaultdict(str)\n",
    "valid_place = set()\n",
    "with gzip.open('places.clean.json.gz') as f:\n",
    "    for l in progress_bar(f):\n",
    "        temp = eval(l)\n",
    "        if temp['closed'] == False and temp['gps'] is not None:\n",
    "            if temp['address'][-1] == 'United States' or bool(re.match('.*[A-Za-z]{2}\\s\\d{5}.*', temp['address'][-1])): \n",
    "                # only filter out the united states data\n",
    "                valid_place.add(temp['gPlusPlaceId'])\n",
    "            \n",
    "                place_gps[temp['gPlusPlaceId']] = tuple(temp['gps'])\n",
    "                place_name[temp['gPlusPlaceId']] = temp['name']"
   ]
  },
  {
   "cell_type": "code",
   "execution_count": 59,
   "id": "f5b50bcb",
   "metadata": {},
   "outputs": [
    {
     "data": {
      "text/plain": [
       "1271442"
      ]
     },
     "execution_count": 59,
     "metadata": {},
     "output_type": "execute_result"
    }
   ],
   "source": [
    "len(valid_place)"
   ]
  },
  {
   "cell_type": "code",
   "execution_count": 60,
   "id": "80c5aa71",
   "metadata": {},
   "outputs": [],
   "source": [
    "# # get all the places names\n",
    "# all_names = []\n",
    "# for place in place_name:\n",
    "#     all_names.append(place_name[place])\n",
    "# # set up a tfidf vectorizer\n",
    "# vectorizer = TfidfVectorizer()\n",
    "# vectorizer.fit(all_names)\n",
    "# del(all_names)"
   ]
  },
  {
   "cell_type": "code",
   "execution_count": 61,
   "id": "e67154b7",
   "metadata": {},
   "outputs": [
    {
     "data": {
      "text/plain": [
       "(737639, 1271442)"
      ]
     },
     "execution_count": 61,
     "metadata": {},
     "output_type": "execute_result"
    }
   ],
   "source": [
    "len(valid_user), len(valid_place)"
   ]
  },
  {
   "cell_type": "code",
   "execution_count": 62,
   "id": "1995b1a0",
   "metadata": {},
   "outputs": [
    {
     "name": "stderr",
     "output_type": "stream",
     "text": [
      "11453845it [04:58, 38334.30it/s]"
     ]
    },
    {
     "name": "stdout",
     "output_type": "stream",
     "text": [
      "CPU times: total: 4min 58s\n",
      "Wall time: 4min 58s\n"
     ]
    },
    {
     "name": "stderr",
     "output_type": "stream",
     "text": [
      "\n"
     ]
    }
   ],
   "source": [
    "%%time\n",
    "# this cell record the reviews information (in the valid pairs)\n",
    "X_full = []\n",
    "y_full = []\n",
    "with gzip.open('reviews.clean.json.gz') as f:\n",
    "    for l in progress_bar(f):\n",
    "        temp = eval(l)\n",
    "        user = temp['gPlusUserId']\n",
    "        place = temp['gPlusPlaceId']\n",
    "        rating = temp['rating']\n",
    "        review = temp['reviewText']\n",
    "        if user in valid_user and place in valid_place:\n",
    "            if review is not None:\n",
    "                X_full.append((user, place, review))\n",
    "                y_full.append(rating)"
   ]
  },
  {
   "cell_type": "code",
   "execution_count": 63,
   "id": "55ca9385",
   "metadata": {},
   "outputs": [],
   "source": [
    "X_train, X_test, y_train, y_test = train_test_split(X_full, y_full, test_size=0.1, random_state=42)"
   ]
  },
  {
   "cell_type": "code",
   "execution_count": 64,
   "id": "a74acc8f",
   "metadata": {},
   "outputs": [],
   "source": [
    "# get the train data average ratings for user & place\n",
    "ratings_per_user = defaultdict(list)\n",
    "ratings_per_place = defaultdict(list)\n",
    "overall_ratings = []\n",
    "\n",
    "for (user, place, review), rating in zip(X_train, y_train):\n",
    "    ratings_per_user[user].append(rating)\n",
    "    ratings_per_place[user].append(rating)\n",
    "    overall_ratings.append(rating)\n",
    "    \n",
    "average_rating = np.mean(overall_ratings)"
   ]
  },
  {
   "cell_type": "code",
   "execution_count": 14,
   "id": "8b353bb3",
   "metadata": {
    "scrolled": true
   },
   "outputs": [
    {
     "data": {
      "text/plain": [
       "<1x832321 sparse matrix of type '<class 'numpy.float64'>'\n",
       "\twith 1 stored elements in Compressed Sparse Row format>"
      ]
     },
     "execution_count": 14,
     "metadata": {},
     "output_type": "execute_result"
    }
   ],
   "source": [
    "vectorizer.transform([place_name['100062881646354125752']])"
   ]
  },
  {
   "cell_type": "code",
   "execution_count": 65,
   "id": "d7c7060d",
   "metadata": {},
   "outputs": [],
   "source": [
    "def feature(user, place, review, ratings_per_user=ratings_per_user, ratings_per_place=ratings_per_place):\n",
    "    \"\"\"\n",
    "    This method that returns the features.\n",
    "    \n",
    "    input:\n",
    "        user_id\n",
    "        place_id\n",
    "    output:\n",
    "        user_position_a, \n",
    "        user_position_b, \n",
    "        average_user_ratings\n",
    "        place_position_a, \n",
    "        place_position_b, \n",
    "        average_place_ratings,\n",
    "        place_name\n",
    "    \"\"\"\n",
    "    output = [review]\n",
    "    \n",
    "    # get the user positions\n",
    "    user_position_a, user_position_b = user_position[user]\n",
    "    output.append(user_position_a)\n",
    "    output.append(user_position_b)\n",
    "    \n",
    "    # get the average user ratings\n",
    "    if user in ratings_per_user:\n",
    "        output.append(np.mean(ratings_per_user[user]))\n",
    "    else:\n",
    "        output.append(average_rating)\n",
    "        \n",
    "    # get the place positions\n",
    "    place_position_a, place_position_b = place_gps[place]\n",
    "    output.append(place_position_a)\n",
    "    output.append(place_position_b)\n",
    "    \n",
    "    # get the average place ratings\n",
    "    if place in ratings_per_place:\n",
    "        output.append(np.mean(ratings_per_place[place]))\n",
    "    else:\n",
    "        output.append(average_rating)\n",
    "        \n",
    "#     # append the place_name\n",
    "#     name = place_name[place]\n",
    "#     output.append(name)\n",
    "    \n",
    "    return output"
   ]
  },
  {
   "cell_type": "code",
   "execution_count": 66,
   "id": "3c350697",
   "metadata": {},
   "outputs": [
    {
     "name": "stderr",
     "output_type": "stream",
     "text": [
      "100%|██████████████████████████████████████████████████████████████████████| 768825/768825 [00:07<00:00, 101889.79it/s]"
     ]
    },
    {
     "name": "stdout",
     "output_type": "stream",
     "text": [
      "CPU times: total: 7.66 s\n",
      "Wall time: 7.68 s\n"
     ]
    },
    {
     "name": "stderr",
     "output_type": "stream",
     "text": [
      "\n"
     ]
    }
   ],
   "source": [
    "%%time\n",
    "X_train_final = []\n",
    "for user, place, review in progress_bar(X_train):\n",
    "    X_train_final.append(feature(user, place, review))"
   ]
  },
  {
   "cell_type": "code",
   "execution_count": 67,
   "id": "2ba67fc9",
   "metadata": {},
   "outputs": [
    {
     "name": "stderr",
     "output_type": "stream",
     "text": [
      "100%|████████████████████████████████████████████████████████████████████████| 85426/85426 [00:00<00:00, 137267.23it/s]"
     ]
    },
    {
     "name": "stdout",
     "output_type": "stream",
     "text": [
      "CPU times: total: 641 ms\n",
      "Wall time: 643 ms\n"
     ]
    },
    {
     "name": "stderr",
     "output_type": "stream",
     "text": [
      "\n"
     ]
    }
   ],
   "source": [
    "%%time\n",
    "X_test_final = []\n",
    "for user, place, review in progress_bar(X_test):\n",
    "    X_test_final.append(feature(user, place, review))"
   ]
  },
  {
   "cell_type": "code",
   "execution_count": 68,
   "id": "56e1f524",
   "metadata": {},
   "outputs": [],
   "source": [
    "# organize the data into pds and append the column name\n",
    "column_names = ['review_text','user_pa', 'user_pb', 'user_avg', 'place_pa', 'place_pb', 'place_avg']\n",
    "X_train_final_df = pd.DataFrame(X_train_final, columns=column_names)\n",
    "y_train = np.array(y_train)\n",
    "X_test_final_df = pd.DataFrame(X_test_final, columns=column_names)\n",
    "y_test = np.array(y_test)"
   ]
  },
  {
   "cell_type": "code",
   "execution_count": 69,
   "id": "3dd5c4ff",
   "metadata": {},
   "outputs": [
    {
     "data": {
      "text/html": [
       "<div>\n",
       "<style scoped>\n",
       "    .dataframe tbody tr th:only-of-type {\n",
       "        vertical-align: middle;\n",
       "    }\n",
       "\n",
       "    .dataframe tbody tr th {\n",
       "        vertical-align: top;\n",
       "    }\n",
       "\n",
       "    .dataframe thead th {\n",
       "        text-align: right;\n",
       "    }\n",
       "</style>\n",
       "<table border=\"1\" class=\"dataframe\">\n",
       "  <thead>\n",
       "    <tr style=\"text-align: right;\">\n",
       "      <th></th>\n",
       "      <th>review_text</th>\n",
       "      <th>user_pa</th>\n",
       "      <th>user_pb</th>\n",
       "      <th>user_avg</th>\n",
       "      <th>place_pa</th>\n",
       "      <th>place_pb</th>\n",
       "      <th>place_avg</th>\n",
       "    </tr>\n",
       "  </thead>\n",
       "  <tbody>\n",
       "    <tr>\n",
       "      <th>0</th>\n",
       "      <td>Commun. Sans plus.</td>\n",
       "      <td>-210538750</td>\n",
       "      <td>552286830</td>\n",
       "      <td>3.500000</td>\n",
       "      <td>37.878316</td>\n",
       "      <td>-122.269447</td>\n",
       "      <td>4.139453</td>\n",
       "    </tr>\n",
       "    <tr>\n",
       "      <th>1</th>\n",
       "      <td>Decent food.</td>\n",
       "      <td>476062100</td>\n",
       "      <td>-1223320710</td>\n",
       "      <td>3.000000</td>\n",
       "      <td>47.624097</td>\n",
       "      <td>-122.312474</td>\n",
       "      <td>4.139453</td>\n",
       "    </tr>\n",
       "    <tr>\n",
       "      <th>2</th>\n",
       "      <td>Food and prices are amazing however the place ...</td>\n",
       "      <td>404167020</td>\n",
       "      <td>-868752870</td>\n",
       "      <td>4.600000</td>\n",
       "      <td>40.419059</td>\n",
       "      <td>-86.888125</td>\n",
       "      <td>4.139453</td>\n",
       "    </tr>\n",
       "    <tr>\n",
       "      <th>3</th>\n",
       "      <td>Teddy's serves up great big burgers topped wit...</td>\n",
       "      <td>360331160</td>\n",
       "      <td>-867827770</td>\n",
       "      <td>3.947368</td>\n",
       "      <td>21.271764</td>\n",
       "      <td>-157.821682</td>\n",
       "      <td>4.139453</td>\n",
       "    </tr>\n",
       "    <tr>\n",
       "      <th>4</th>\n",
       "      <td>My wife and I are very happy with this store. ...</td>\n",
       "      <td>449799650</td>\n",
       "      <td>-932638360</td>\n",
       "      <td>4.333333</td>\n",
       "      <td>44.937585</td>\n",
       "      <td>-93.290963</td>\n",
       "      <td>4.139453</td>\n",
       "    </tr>\n",
       "    <tr>\n",
       "      <th>...</th>\n",
       "      <td>...</td>\n",
       "      <td>...</td>\n",
       "      <td>...</td>\n",
       "      <td>...</td>\n",
       "      <td>...</td>\n",
       "      <td>...</td>\n",
       "      <td>...</td>\n",
       "    </tr>\n",
       "    <tr>\n",
       "      <th>768820</th>\n",
       "      <td>I was here when it opened!  The Goliath burrit...</td>\n",
       "      <td>302671530</td>\n",
       "      <td>-977430610</td>\n",
       "      <td>4.226667</td>\n",
       "      <td>30.245371</td>\n",
       "      <td>-97.757424</td>\n",
       "      <td>4.139453</td>\n",
       "    </tr>\n",
       "    <tr>\n",
       "      <th>768821</th>\n",
       "      <td>Good movies at a lower price.</td>\n",
       "      <td>423726400</td>\n",
       "      <td>-711096530</td>\n",
       "      <td>3.731707</td>\n",
       "      <td>42.396705</td>\n",
       "      <td>-71.122862</td>\n",
       "      <td>4.139453</td>\n",
       "    </tr>\n",
       "    <tr>\n",
       "      <th>768822</th>\n",
       "      <td>Very friendly service.  The recipient of the f...</td>\n",
       "      <td>296516340</td>\n",
       "      <td>-823248260</td>\n",
       "      <td>5.000000</td>\n",
       "      <td>27.967926</td>\n",
       "      <td>-82.767256</td>\n",
       "      <td>4.139453</td>\n",
       "    </tr>\n",
       "    <tr>\n",
       "      <th>768823</th>\n",
       "      <td>I love this place for breakfast. I had the Fre...</td>\n",
       "      <td>279494360</td>\n",
       "      <td>-824651440</td>\n",
       "      <td>4.789474</td>\n",
       "      <td>40.745383</td>\n",
       "      <td>-74.002402</td>\n",
       "      <td>4.139453</td>\n",
       "    </tr>\n",
       "    <tr>\n",
       "      <th>768824</th>\n",
       "      <td>Everything went as expected.</td>\n",
       "      <td>323371140</td>\n",
       "      <td>-903362620</td>\n",
       "      <td>3.846154</td>\n",
       "      <td>33.944114</td>\n",
       "      <td>-84.124116</td>\n",
       "      <td>4.139453</td>\n",
       "    </tr>\n",
       "  </tbody>\n",
       "</table>\n",
       "<p>768825 rows × 7 columns</p>\n",
       "</div>"
      ],
      "text/plain": [
       "                                              review_text    user_pa  \\\n",
       "0                                      Commun. Sans plus. -210538750   \n",
       "1                                            Decent food.  476062100   \n",
       "2       Food and prices are amazing however the place ...  404167020   \n",
       "3       Teddy's serves up great big burgers topped wit...  360331160   \n",
       "4       My wife and I are very happy with this store. ...  449799650   \n",
       "...                                                   ...        ...   \n",
       "768820  I was here when it opened!  The Goliath burrit...  302671530   \n",
       "768821                      Good movies at a lower price.  423726400   \n",
       "768822  Very friendly service.  The recipient of the f...  296516340   \n",
       "768823  I love this place for breakfast. I had the Fre...  279494360   \n",
       "768824                       Everything went as expected.  323371140   \n",
       "\n",
       "           user_pb  user_avg   place_pa    place_pb  place_avg  \n",
       "0        552286830  3.500000  37.878316 -122.269447   4.139453  \n",
       "1      -1223320710  3.000000  47.624097 -122.312474   4.139453  \n",
       "2       -868752870  4.600000  40.419059  -86.888125   4.139453  \n",
       "3       -867827770  3.947368  21.271764 -157.821682   4.139453  \n",
       "4       -932638360  4.333333  44.937585  -93.290963   4.139453  \n",
       "...            ...       ...        ...         ...        ...  \n",
       "768820  -977430610  4.226667  30.245371  -97.757424   4.139453  \n",
       "768821  -711096530  3.731707  42.396705  -71.122862   4.139453  \n",
       "768822  -823248260  5.000000  27.967926  -82.767256   4.139453  \n",
       "768823  -824651440  4.789474  40.745383  -74.002402   4.139453  \n",
       "768824  -903362620  3.846154  33.944114  -84.124116   4.139453  \n",
       "\n",
       "[768825 rows x 7 columns]"
      ]
     },
     "execution_count": 69,
     "metadata": {},
     "output_type": "execute_result"
    }
   ],
   "source": [
    "X_train_final_df"
   ]
  },
  {
   "cell_type": "code",
   "execution_count": 70,
   "id": "fe9bd551",
   "metadata": {},
   "outputs": [],
   "source": [
    "# organize a pipeline\n",
    "preproc = ColumnTransformer(\n",
    "    transformers = [\n",
    "        ('std', StandardScaler(), ['user_pa', 'user_pb', 'user_avg', 'place_pa', 'place_pb', 'place_avg']),\n",
    "        ('tfidf', TfidfVectorizer(decode_error='ignore'), 'review_text')\n",
    "    ]\n",
    ")\n",
    "pl = Pipeline([\n",
    "    ('preprocessor', preproc),\n",
    "    ('log_clf', LogisticRegression(n_jobs=-1))\n",
    "])"
   ]
  },
  {
   "cell_type": "code",
   "execution_count": 71,
   "id": "686fc0bb",
   "metadata": {},
   "outputs": [
    {
     "name": "stderr",
     "output_type": "stream",
     "text": [
      "C:\\ProgramData\\Anaconda3\\envs\\iaat\\lib\\site-packages\\daal4py\\sklearn\\linear_model\\logistic_path.py:459: ConvergenceWarning: lbfgs failed to converge (status=1):\n",
      "STOP: TOTAL NO. of ITERATIONS REACHED LIMIT.\n",
      "\n",
      "Increase the number of iterations (max_iter) or scale the data as shown in:\n",
      "    https://scikit-learn.org/stable/modules/preprocessing.html\n",
      "Please also refer to the documentation for alternative solver options:\n",
      "    https://scikit-learn.org/stable/modules/linear_model.html#logistic-regression\n",
      "  n_iter_i = _check_optimize_result(\n"
     ]
    },
    {
     "data": {
      "text/plain": [
       "Pipeline(steps=[('preprocessor',\n",
       "                 ColumnTransformer(transformers=[('std', StandardScaler(),\n",
       "                                                  ['user_pa', 'user_pb',\n",
       "                                                   'user_avg', 'place_pa',\n",
       "                                                   'place_pb', 'place_avg']),\n",
       "                                                 ('tfidf',\n",
       "                                                  TfidfVectorizer(decode_error='ignore'),\n",
       "                                                  'review_text')])),\n",
       "                ('log_clf', LogisticRegression(n_jobs=1))])"
      ]
     },
     "execution_count": 71,
     "metadata": {},
     "output_type": "execute_result"
    }
   ],
   "source": [
    "pl.fit(X_train_final_df, y_train)"
   ]
  },
  {
   "cell_type": "code",
   "execution_count": 72,
   "id": "0df5e4fb",
   "metadata": {},
   "outputs": [
    {
     "data": {
      "text/plain": [
       "0.7036594803758983"
      ]
     },
     "execution_count": 72,
     "metadata": {},
     "output_type": "execute_result"
    }
   ],
   "source": [
    "pl.score(X_train_final_df, y_train)"
   ]
  },
  {
   "cell_type": "code",
   "execution_count": 73,
   "id": "b4a5836c",
   "metadata": {},
   "outputs": [
    {
     "data": {
      "text/plain": [
       "0.625711141806944"
      ]
     },
     "execution_count": 73,
     "metadata": {},
     "output_type": "execute_result"
    }
   ],
   "source": [
    "pl.score(X_test_final_df, y_test)"
   ]
  },
  {
   "cell_type": "code",
   "execution_count": null,
   "id": "ee1bc1b1",
   "metadata": {},
   "outputs": [],
   "source": []
  },
  {
   "cell_type": "code",
   "execution_count": null,
   "id": "c33e97b4",
   "metadata": {},
   "outputs": [],
   "source": []
  },
  {
   "cell_type": "code",
   "execution_count": null,
   "id": "6bc18891",
   "metadata": {},
   "outputs": [],
   "source": []
  },
  {
   "cell_type": "code",
   "execution_count": 18,
   "id": "e841e1aa",
   "metadata": {},
   "outputs": [
    {
     "data": {
      "text/plain": [
       "2137548"
      ]
     },
     "execution_count": 18,
     "metadata": {},
     "output_type": "execute_result"
    }
   ],
   "source": [
    "len(X_train)"
   ]
  },
  {
   "cell_type": "code",
   "execution_count": 65,
   "id": "23f4293a",
   "metadata": {},
   "outputs": [
    {
     "data": {
      "text/plain": [
       "<1x832321 sparse matrix of type '<class 'numpy.float64'>'\n",
       "\twith 1 stored elements in Compressed Sparse Row format>"
      ]
     },
     "execution_count": 65,
     "metadata": {},
     "output_type": "execute_result"
    }
   ],
   "source": [
    "vectorizer.transform([place_name['100062881646354125752']])"
   ]
  },
  {
   "cell_type": "code",
   "execution_count": 100,
   "id": "32562e59",
   "metadata": {},
   "outputs": [
    {
     "data": {
      "text/plain": [
       "{'name': '天山湯治郷',\n",
       " 'price': None,\n",
       " 'address': ['208 Yumotochaya',\n",
       "  'Hakone, Ashigarashimo District, Kanagawa 250-0312',\n",
       "  'Japan'],\n",
       " 'hours': None,\n",
       " 'phone': '0460-86-4126',\n",
       " 'closed': False,\n",
       " 'gPlusPlaceId': '100062881646354125752',\n",
       " 'gps': [35.224978, 139.088382]}"
      ]
     },
     "execution_count": 100,
     "metadata": {},
     "output_type": "execute_result"
    }
   ],
   "source": [
    "data[8]"
   ]
  },
  {
   "cell_type": "code",
   "execution_count": null,
   "id": "602d3f0b",
   "metadata": {},
   "outputs": [],
   "source": [
    "%%a"
   ]
  },
  {
   "cell_type": "code",
   "execution_count": null,
   "id": "c5010317",
   "metadata": {},
   "outputs": [],
   "source": []
  },
  {
   "cell_type": "code",
   "execution_count": 82,
   "id": "2af7151b",
   "metadata": {},
   "outputs": [
    {
     "data": {
      "text/plain": [
       "737639"
      ]
     },
     "execution_count": 82,
     "metadata": {},
     "output_type": "execute_result"
    }
   ],
   "source": [
    "len(data)"
   ]
  },
  {
   "cell_type": "code",
   "execution_count": 87,
   "id": "d531a029",
   "metadata": {},
   "outputs": [
    {
     "data": {
      "text/plain": [
       "<function defaultdict.keys>"
      ]
     },
     "execution_count": 87,
     "metadata": {},
     "output_type": "execute_result"
    }
   ],
   "source": []
  },
  {
   "cell_type": "code",
   "execution_count": 86,
   "id": "7c8e28ac",
   "metadata": {},
   "outputs": [
    {
     "ename": "TypeError",
     "evalue": "'builtin_function_or_method' object is not iterable",
     "output_type": "error",
     "traceback": [
      "\u001b[1;31m---------------------------------------------------------------------------\u001b[0m",
      "\u001b[1;31mTypeError\u001b[0m                                 Traceback (most recent call last)",
      "Cell \u001b[1;32mIn [86], line 1\u001b[0m\n\u001b[1;32m----> 1\u001b[0m \u001b[38;5;28;43mlist\u001b[39;49m\u001b[43m(\u001b[49m\u001b[43mdata\u001b[49m\u001b[38;5;241;43m.\u001b[39;49m\u001b[43mkeys\u001b[49m\u001b[43m)\u001b[49m\n",
      "\u001b[1;31mTypeError\u001b[0m: 'builtin_function_or_method' object is not iterable"
     ]
    }
   ],
   "source": [
    "list(data.keys)"
   ]
  },
  {
   "cell_type": "code",
   "execution_count": 64,
   "id": "144a11c1",
   "metadata": {},
   "outputs": [],
   "source": [
    "data = []\n",
    "with gzip.open('users.clean.json.gz') as f:\n",
    "    i = 0\n",
    "    for l in f:\n",
    "        temp = eval(l)\n",
    "        if temp['currentPlace'] is not None:\n",
    "            data.append(temp)\n",
    "        i += 1\n",
    "        if i >= 100:\n",
    "            break"
   ]
  },
  {
   "cell_type": "code",
   "execution_count": 73,
   "id": "54fd571c",
   "metadata": {},
   "outputs": [
    {
     "data": {
      "text/plain": [
       "418954660"
      ]
     },
     "execution_count": 73,
     "metadata": {},
     "output_type": "execute_result"
    }
   ],
   "source": [
    "data[3]['currentPlace'][1][1]"
   ]
  },
  {
   "cell_type": "code",
   "execution_count": null,
   "id": "22f74f59",
   "metadata": {},
   "outputs": [],
   "source": []
  },
  {
   "cell_type": "code",
   "execution_count": 33,
   "id": "6b2ad4e9",
   "metadata": {},
   "outputs": [
    {
     "data": {
      "text/plain": [
       "{'userName': 'Bharti Phand',\n",
       " 'jobs': None,\n",
       " 'currentPlace': None,\n",
       " 'previousPlaces': None,\n",
       " 'education': [[[], [], [], [], [], 6], []],\n",
       " 'gPlusUserId': '100000036174088924566'}"
      ]
     },
     "execution_count": 33,
     "metadata": {},
     "output_type": "execute_result"
    }
   ],
   "source": [
    "data[6]"
   ]
  },
  {
   "cell_type": "code",
   "execution_count": 57,
   "id": "1a16a56c",
   "metadata": {},
   "outputs": [
    {
     "data": {
      "text/plain": [
       "{'userName': 'William Corcuera',\n",
       " 'jobs': None,\n",
       " 'currentPlace': None,\n",
       " 'previousPlaces': None,\n",
       " 'education': [[[], [], [], [], [], 6], []],\n",
       " 'gPlusUserId': '100000122158721897485'}"
      ]
     },
     "execution_count": 57,
     "metadata": {},
     "output_type": "execute_result"
    }
   ],
   "source": [
    "data[29]"
   ]
  },
  {
   "cell_type": "code",
   "execution_count": 44,
   "id": "86d87521",
   "metadata": {},
   "outputs": [
    {
     "data": {
      "text/plain": [
       "{'userName': 'Aniello Prezioso',\n",
       " 'jobs': [['Stato Maggiore Difesa',\n",
       "   'LGT',\n",
       "   [[1, 1, 1979], [1, 1, 2012], 1],\n",
       "   '',\n",
       "   '']],\n",
       " 'currentPlace': ['roma', [[], 418954660, 124823240, 1]],\n",
       " 'previousPlaces': [['salerno', [[], 406779570, 147659120, 1]]],\n",
       " 'education': [[[], [], [], [], [], 6],\n",
       "  [['giacinto vicinanza a salerno', 'elementari', [[], [1, 1, 1965]], '', ''],\n",
       "   ['giacinto vicinanza', '', [[], [1, 1, 1970]], '', '']]],\n",
       " 'gPlusUserId': '100000067656171981860'}"
      ]
     },
     "execution_count": 44,
     "metadata": {},
     "output_type": "execute_result"
    }
   ],
   "source": [
    "data[16]"
   ]
  },
  {
   "cell_type": "code",
   "execution_count": 27,
   "id": "5c6a4ee2",
   "metadata": {
    "scrolled": true
   },
   "outputs": [
    {
     "data": {
      "text/plain": [
       "[['Tổng công ty IDICO',\n",
       "  'Chuyên viên Kỹ thuật XD',\n",
       "  [[1, 1, 1998], [1, 1, 2013], 1],\n",
       "  '',\n",
       "  '']]"
      ]
     },
     "execution_count": 27,
     "metadata": {},
     "output_type": "execute_result"
    }
   ],
   "source": [
    "data[0]['jobs']"
   ]
  },
  {
   "cell_type": "code",
   "execution_count": null,
   "id": "7c0addf6",
   "metadata": {},
   "outputs": [],
   "source": []
  }
 ],
 "metadata": {
  "kernelspec": {
   "display_name": "Python 3 (ipykernel)",
   "language": "python",
   "name": "python3"
  },
  "language_info": {
   "codemirror_mode": {
    "name": "ipython",
    "version": 3
   },
   "file_extension": ".py",
   "mimetype": "text/x-python",
   "name": "python",
   "nbconvert_exporter": "python",
   "pygments_lexer": "ipython3",
   "version": "3.9.12"
  }
 },
 "nbformat": 4,
 "nbformat_minor": 5
}
